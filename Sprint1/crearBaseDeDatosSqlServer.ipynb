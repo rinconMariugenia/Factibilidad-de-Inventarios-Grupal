{
 "cells": [
  {
   "cell_type": "code",
   "execution_count": 5,
   "metadata": {},
   "outputs": [
    {
     "name": "stdout",
     "output_type": "stream",
     "text": [
      "Note: you may need to restart the kernel to use updated packages.\n"
     ]
    },
    {
     "name": "stderr",
     "output_type": "stream",
     "text": [
      "\n",
      "[notice] A new release of pip is available: 24.0 -> 25.0\n",
      "[notice] To update, run: C:\\Users\\mariu\\AppData\\Local\\Microsoft\\WindowsApps\\PythonSoftwareFoundation.Python.3.11_qbz5n2kfra8p0\\python.exe -m pip install --upgrade pip\n"
     ]
    },
    {
     "name": "stdout",
     "output_type": "stream",
     "text": [
      "Requirement already satisfied: pyodbc in c:\\users\\mariu\\appdata\\local\\packages\\pythonsoftwarefoundation.python.3.11_qbz5n2kfra8p0\\localcache\\local-packages\\python311\\site-packages (5.2.0)\n"
     ]
    }
   ],
   "source": [
    "pip install pyodbc"
   ]
  },
  {
   "cell_type": "markdown",
   "metadata": {},
   "source": [
    "**PRUEBA AISLADA DE CONEXION A SQL SERVER**"
   ]
  },
  {
   "cell_type": "code",
   "execution_count": 1,
   "metadata": {},
   "outputs": [
    {
     "name": "stdout",
     "output_type": "stream",
     "text": [
      "Conexión exitosa a SQL Server\n"
     ]
    }
   ],
   "source": [
    "import pyodbc\n",
    "\n",
    "server = 'MARIUGENIAIT\\SQLEXPRESS'\n",
    "database = 'master'\n",
    "driver = '{ODBC Driver 17 for SQL Server}'\n",
    "\n",
    "try:\n",
    "    conn_str = f'DRIVER={driver};SERVER={server};DATABASE={database};Trusted_Connection=yes;'\n",
    "    conn = pyodbc.connect(conn_str)\n",
    "    print(\"Conexión exitosa a SQL Server\")\n",
    "except pyodbc.Error as ex:\n",
    "    print(f\"Error de conexión: {ex}\")\n"
   ]
  },
  {
   "cell_type": "markdown",
   "metadata": {},
   "source": [
    "**CREACION DE BASE DE DATOS**"
   ]
  },
  {
   "cell_type": "code",
   "execution_count": 2,
   "metadata": {},
   "outputs": [
    {
     "name": "stdout",
     "output_type": "stream",
     "text": [
      "Base de datos 'InventarioLicores' creada o ya existente.\n"
     ]
    }
   ],
   "source": [
    "import subprocess\n",
    "\n",
    "# Datos de conexión a SQL Server (Autenticación de Windows integrada)\n",
    "server = 'MARIUGENIAIT\\SQLEXPRESS'  # Reemplaza con el nombre de tu servidor\n",
    "database = 'InventarioLicores'  # Nombre de la base de datos\n",
    "\n",
    "try:\n",
    "    # Crear la base de datos usando sqlcmd (proceso aislado)\n",
    "    sqlcmd_command = [\n",
    "        \"sqlcmd\",\n",
    "        \"-S\", server,\n",
    "        \"-E\",  # Autenticación integrada de Windows\n",
    "        \"-Q\", f\"IF NOT EXISTS (SELECT * FROM sys.databases WHERE name = '{database}') CREATE DATABASE {database}\"\n",
    "    ]\n",
    "    subprocess.run(sqlcmd_command, check=True)\n",
    "    print(f\"Base de datos '{database}' creada o ya existente.\")\n",
    "\n",
    "except subprocess.CalledProcessError as e:\n",
    "    print(f\"Error al crear la base de datos con sqlcmd: {e}\")\n",
    "except Exception as ex:\n",
    "    print(f\"Error general: {ex}\")"
   ]
  },
  {
   "cell_type": "markdown",
   "metadata": {},
   "source": [
    "**CREACION DE LAS TABLAS Y SUS RELACIONES E INDICES**"
   ]
  },
  {
   "cell_type": "code",
   "execution_count": 3,
   "metadata": {},
   "outputs": [
    {
     "name": "stdout",
     "output_type": "stream",
     "text": [
      "Tablas, relaciones, claves PK y FK, e índices creados exitosamente en la base de datos 'InventarioLicores'.\n"
     ]
    }
   ],
   "source": [
    "import subprocess\n",
    "\n",
    "# Datos de conexión a SQL Server (Autenticación de Windows integrada)\n",
    "server = 'MARIUGENIAIT\\SQLEXPRESS'  # Reemplaza con el nombre de tu servidor\n",
    "database = 'InventarioLicores'  # Nombre de la base de datos\n",
    "\n",
    "# Comandos SQL para crear las tablas, claves y relaciones\n",
    "sql_commands = \"\"\"\n",
    "    USE InventarioLicores;\n",
    "\n",
    "    -- Crear la tabla de Productos\n",
    "    CREATE TABLE Productos (\n",
    "        productoId INT PRIMARY KEY,\n",
    "        nombreProducto VARCHAR(100),\n",
    "        precio DECIMAL(10,2),\n",
    "        tamanio VARCHAR(100),\n",
    "        volumen INT,\n",
    "        clasificacion INT,\n",
    "        costo DECIMAL(10, 2),\n",
    "        proveedorId INT,\n",
    "        nombreProveedor VARCHAR(100)\n",
    "    );\n",
    "\n",
    "    -- Crear la tabla de Compras\n",
    "    CREATE TABLE Compras (\n",
    "        compraId INT PRIMARY KEY,\n",
    "        proveedorId INT,\n",
    "        nombreProveedor VARCHAR(100),\n",
    "        fechaFactura DATE,\n",
    "        fechaCompra DATE,\n",
    "        fechaPago DATE,\n",
    "        cantidad INT,\n",
    "        costoTotal DECIMAL(18, 2),\n",
    "        costoEnvio DECIMAL(18, 2)\n",
    "    );\n",
    "\n",
    "    -- Crear la tabla de InventarioFinal\n",
    "    CREATE TABLE InventarioFinal (\n",
    "        inventarioFinId INT PRIMARY KEY,\n",
    "        tienda INT,\n",
    "        ciudad VARCHAR(100),\n",
    "        productoId INT,\n",
    "        nombreProducto VARCHAR(100),\n",
    "        tamanio VARCHAR(100),\n",
    "        cantidad INT,\n",
    "        precio DECIMAL(18, 2),\n",
    "        fechaFin DATE,\n",
    "        FOREIGN KEY (productoId) REFERENCES Productos(productoId)\n",
    "    );\n",
    "\n",
    "    -- Crear la tabla de InventarioInicial\n",
    "    CREATE TABLE InventarioInicial (\n",
    "        inventarioIniId INT PRIMARY KEY,\n",
    "        tienda INT,\n",
    "        ciudad VARCHAR(100),\n",
    "        productoId INT,\n",
    "        nombreProducto CHAR(100),\n",
    "        tamanio VARCHAR(100),\n",
    "        cantidad INT,\n",
    "        precio DECIMAL(18, 2),\n",
    "        fechaInicio DATE,\n",
    "        FOREIGN KEY (productoId) REFERENCES Productos(productoId)\n",
    "    );\n",
    "\n",
    "    -- Crear la tabla de Ventas\n",
    "    CREATE TABLE Ventas (\n",
    "        ventasId INT PRIMARY KEY,\n",
    "        inventarioIniId INT,\n",
    "        tienda INT,\n",
    "        productoId INT,\n",
    "        nombreProducto VARCHAR(100),\n",
    "        tamanio VARCHAR(100),\n",
    "        cantidadVendida INT,\n",
    "        totalVenta DECIMAL(18, 2),\n",
    "        precioUnitario DECIMAL(18, 2),\n",
    "        volumen INT,\n",
    "        clasificacion INT,\n",
    "        impuestos DECIMAL(9, 2),\n",
    "        proveedorId INT,\n",
    "        nombreProveedor VARCHAR(100),\n",
    "        FOREIGN KEY (inventarioIniId) REFERENCES InventarioInicial(inventarioIniId),\n",
    "        FOREIGN KEY (productoId) REFERENCES Productos(productoId)\n",
    "    );\n",
    "\n",
    "    -- Crear la tabla de DetalleCompra\n",
    "    CREATE TABLE DetalleCompra (\n",
    "        detalleCompraId INT PRIMARY KEY,\n",
    "        inventarioIniId INT,\n",
    "        tienda INT,\n",
    "        productoId INT,\n",
    "        nombreProducto VARCHAR(100),\n",
    "        tamanio VARCHAR(100),\n",
    "        proveedorId INT,\n",
    "        nombreProveedor VARCHAR(100),\n",
    "        compraId INT,\n",
    "        fechaCompra DATE,\n",
    "        fechaIngreso DATE,\n",
    "        fechaFactura DATE,\n",
    "        fechaPago DATE,\n",
    "        costoUnitario DECIMAL(18, 2),\n",
    "        cantidad INT,\n",
    "        costoTotal DECIMAL(9, 2),\n",
    "        clasificacion INT,\n",
    "        FOREIGN KEY (inventarioIniId) REFERENCES InventarioInicial(inventarioIniId),\n",
    "        FOREIGN KEY (productoId) REFERENCES Productos(productoId),\n",
    "        FOREIGN KEY (compraId) REFERENCES Compras(compraId)\n",
    "    );\n",
    "\n",
    "    -- Crear los índices\n",
    "    CREATE INDEX IX_Productos_NombreProducto\n",
    "    ON Productos (nombreProducto);\n",
    "\n",
    "    CREATE INDEX IX_Compras_FechaCompra\n",
    "    ON Compras (fechaCompra);\n",
    "\n",
    "    CREATE INDEX IX_DetalleCompra_ProductoID\n",
    "    ON DetalleCompra (productoId);\n",
    "\n",
    "    CREATE INDEX IX_Ventas_InventarioID\n",
    "    ON Ventas (inventarioIniId);\n",
    "\"\"\"\n",
    "\n",
    "# Ejecutar el comando SQL con sqlcmd\n",
    "try:\n",
    "    # Crear las tablas usando sqlcmd\n",
    "    sqlcmd_command = [\n",
    "        \"sqlcmd\",\n",
    "        \"-S\", server,\n",
    "        \"-E\",  # Autenticación integrada de Windows\n",
    "        \"-Q\", sql_commands\n",
    "    ]\n",
    "    subprocess.run(sqlcmd_command, check=True)\n",
    "    print(f\"Tablas, relaciones, claves PK y FK, e índices creados exitosamente en la base de datos '{database}'.\")\n",
    "\n",
    "except subprocess.CalledProcessError as e:\n",
    "    print(f\"Error al crear las tablas con sqlcmd: {e}\")\n",
    "except Exception as ex:\n",
    "    print(f\"Error general: {ex}\")\n"
   ]
  }
 ],
 "metadata": {
  "kernelspec": {
   "display_name": "Python 3",
   "language": "python",
   "name": "python3"
  },
  "language_info": {
   "codemirror_mode": {
    "name": "ipython",
    "version": 3
   },
   "file_extension": ".py",
   "mimetype": "text/x-python",
   "name": "python",
   "nbconvert_exporter": "python",
   "pygments_lexer": "ipython3",
   "version": "3.11.9"
  }
 },
 "nbformat": 4,
 "nbformat_minor": 2
}
