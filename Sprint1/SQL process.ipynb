{
 "cells": [
  {
   "cell_type": "code",
   "execution_count": 1,
   "metadata": {},
   "outputs": [
    {
     "name": "stdout",
     "output_type": "stream",
     "text": [
      "Base de datos 'ElixirEmporium' creada con éxito\n"
     ]
    }
   ],
   "source": [
    "#Creación de la BD\n",
    "\n",
    "import pandas as pd\n",
    "from sqlalchemy import create_engine, text\n",
    "from sqlalchemy.engine import url\n",
    "\n",
    "# Conexion a la BD\n",
    "server_name = '192.168.1.33, 1433'\n",
    "db_name = 'master'\n",
    "user = 'sa'\n",
    "password = 'dapt4'\n",
    "\n",
    "# Configurar la URL de conexión\n",
    "connection_url = url.URL.create(\n",
    "    \"mssql+pyodbc\",\n",
    "    username=user,\n",
    "    password=password,\n",
    "    host=server_name,\n",
    "    database=db_name,\n",
    "    query={\"driver\": \"ODBC Driver 17 for SQL Server\"}\n",
    ")\n",
    "\n",
    "# Creación del motor de conexión\n",
    "engine = create_engine(connection_url, isolation_level='AUTOCOMMIT')\n",
    "\n",
    "# Nombre de la base de datos\n",
    "DBname = 'ElixirEmporium'\n",
    "\n",
    "# Creación de la BD usando comando SQL\n",
    "sql_create_db = text(f\"CREATE DATABASE {DBname};\")\n",
    "\n",
    "# Conectar y ejecutar comando SQL\n",
    "try:\n",
    "    with engine.connect() as connection:\n",
    "        connection.execute(sql_create_db)\n",
    "        print(f\"Base de datos '{DBname}' creada con éxito\")\n",
    "except Exception as e:\n",
    "    print(f\"Se ha generado un error al crear la base de datos: {e}\")\n",
    "finally:\n",
    "    engine.dispose()"
   ]
  },
  {
   "cell_type": "code",
   "execution_count": 3,
   "metadata": {},
   "outputs": [
    {
     "name": "stdout",
     "output_type": "stream",
     "text": [
      "Tabla 'Compras' creada y cargada con éxito\n"
     ]
    }
   ],
   "source": [
    "import pandas as pd\n",
    "from sqlalchemy import create_engine, text\n",
    "import pyodbc\n",
    "\n",
    "#Conexion a la BD\n",
    "server = '192.168.1.33,1433'\n",
    "name = 'DBname' \n",
    "user = 'sa'\n",
    "password = 'dapt4'\n",
    "\n",
    "connection_string = f\"mssql+pyodbc://{user}:{password}@{server}/{DBname}?driver=ODBC+Driver+17+for+SQL+Server\"\n",
    "engine = create_engine(connection_string)\n",
    "\n",
    "#Creación de tablas\n",
    "invoice_purchases_df = pd.read_csv(\"C:/Users/Laura Jerez/Documents/GitHub/FactibilidadInventariosLicorera/Archivos limpios/Compras.csv\")\n",
    "invoice_purchases_df.to_sql(\"Compras\", con=engine, if_exists='replace', index=False)\n",
    "print(\"Tabla 'Compras' creada y cargada con éxito\")\n",
    "\n",
    "engine.dispose()\n"
   ]
  },
  {
   "cell_type": "code",
   "execution_count": 4,
   "metadata": {},
   "outputs": [
    {
     "name": "stdout",
     "output_type": "stream",
     "text": [
      "Tabla 'DetalleCompra' creada y cargada con éxito\n"
     ]
    }
   ],
   "source": [
    "import pandas as pd\n",
    "from sqlalchemy import create_engine, text\n",
    "import pyodbc\n",
    "\n",
    "#Conexion a la BD\n",
    "server = '192.168.1.33,1433'\n",
    "name = 'DBname' \n",
    "User = 'sa'\n",
    "password = 'dapt4'\n",
    "\n",
    "connection_string = f\"mssql+pyodbc://{user}:{password}@{server}/{DBname}?driver=ODBC+Driver+17+for+SQL+Server\"\n",
    "engine = create_engine(connection_string)\n",
    "\n",
    "#Creación de tablas\n",
    "invoice_purchases_df = pd.read_csv(\"C:/Users/Laura Jerez/Documents/GitHub/FactibilidadInventariosLicorera/Archivos limpios/DetalleCompra.csv\")\n",
    "invoice_purchases_df.to_sql(\"DetalleCompra\", con=engine, if_exists='replace', index=False)\n",
    "print(\"Tabla 'DetalleCompra' creada y cargada con éxito\")\n",
    "\n",
    "engine.dispose()"
   ]
  },
  {
   "cell_type": "code",
   "execution_count": 5,
   "metadata": {},
   "outputs": [
    {
     "name": "stdout",
     "output_type": "stream",
     "text": [
      "Tabla 'InventarioFinal' creada y cargada con éxito\n"
     ]
    }
   ],
   "source": [
    "import pandas as pd\n",
    "from sqlalchemy import create_engine, text\n",
    "import pyodbc\n",
    "\n",
    "#Conexion a la BD\n",
    "server = '192.168.1.33,1433'\n",
    "name = 'DBname' \n",
    "User = 'sa'\n",
    "password = 'dapt4'\n",
    "\n",
    "connection_string = f\"mssql+pyodbc://{user}:{password}@{server}/{DBname}?driver=ODBC+Driver+17+for+SQL+Server\"\n",
    "engine = create_engine(connection_string)\n",
    "\n",
    "#Creación de tablas\n",
    "invoice_purchases_df = pd.read_csv(\"C:/Users/Laura Jerez/Documents/GitHub/FactibilidadInventariosLicorera/Archivos limpios/InventarioFinal.csv\")\n",
    "invoice_purchases_df.to_sql(\"InventarioFinal\", con=engine, if_exists='replace', index=False)\n",
    "print(\"Tabla 'InventarioFinal' creada y cargada con éxito\")\n",
    "\n",
    "engine.dispose()"
   ]
  },
  {
   "cell_type": "code",
   "execution_count": 6,
   "metadata": {},
   "outputs": [
    {
     "name": "stdout",
     "output_type": "stream",
     "text": [
      "Tabla 'InventarioInicial' creada y cargada con éxito\n"
     ]
    }
   ],
   "source": [
    "import pandas as pd\n",
    "from sqlalchemy import create_engine, text\n",
    "import pyodbc\n",
    "\n",
    "#Conexion a la BD\n",
    "server = '192.168.1.33,1433'\n",
    "name = 'DBname' \n",
    "User = 'sa'\n",
    "password = 'dapt4'\n",
    "\n",
    "connection_string = f\"mssql+pyodbc://{user}:{password}@{server}/{DBname}?driver=ODBC+Driver+17+for+SQL+Server\"\n",
    "engine = create_engine(connection_string)\n",
    "\n",
    "#Creación de tablas\n",
    "invoice_purchases_df = pd.read_csv(\"C:/Users/Laura Jerez/Documents/GitHub/FactibilidadInventariosLicorera/Archivos limpios/InventarioInicial.csv\")\n",
    "invoice_purchases_df.to_sql(\"InventarioInicial\", con=engine, if_exists='replace', index=False)\n",
    "print(\"Tabla 'InventarioInicial' creada y cargada con éxito\")\n",
    "\n",
    "engine.dispose()"
   ]
  },
  {
   "cell_type": "code",
   "execution_count": 7,
   "metadata": {},
   "outputs": [
    {
     "name": "stdout",
     "output_type": "stream",
     "text": [
      "Tabla 'Productos' creada y cargada con éxito\n"
     ]
    }
   ],
   "source": [
    "import pandas as pd\n",
    "from sqlalchemy import create_engine, text\n",
    "import pyodbc\n",
    "\n",
    "#Conexion a la BD\n",
    "server = '192.168.1.33,1433'\n",
    "name = 'DBname' \n",
    "User = 'sa'\n",
    "password = 'dapt4'\n",
    "\n",
    "connection_string = f\"mssql+pyodbc://{user}:{password}@{server}/{DBname}?driver=ODBC+Driver+17+for+SQL+Server\"\n",
    "engine = create_engine(connection_string)\n",
    "\n",
    "#Creación de tablas\n",
    "invoice_purchases_df = pd.read_csv(\"C:/Users/Laura Jerez/Documents/GitHub/FactibilidadInventariosLicorera/Archivos limpios/Productos.csv\")\n",
    "invoice_purchases_df.to_sql(\"Productos\", con=engine, if_exists='replace', index=False)\n",
    "print(\"Tabla 'Productos' creada y cargada con éxito\")\n",
    "\n",
    "engine.dispose()"
   ]
  },
  {
   "cell_type": "code",
   "execution_count": 8,
   "metadata": {},
   "outputs": [
    {
     "name": "stdout",
     "output_type": "stream",
     "text": [
      "Tabla 'Ventas' creada y cargada con éxito\n"
     ]
    }
   ],
   "source": [
    "import pandas as pd\n",
    "from sqlalchemy import create_engine, text\n",
    "import pyodbc\n",
    "\n",
    "#Conexion a la BD\n",
    "server = '192.168.1.33,1433'\n",
    "name = 'DBname' \n",
    "User = 'sa'\n",
    "password = 'dapt4'\n",
    "\n",
    "connection_string = f\"mssql+pyodbc://{user}:{password}@{server}/{DBname}?driver=ODBC+Driver+17+for+SQL+Server\"\n",
    "engine = create_engine(connection_string)\n",
    "\n",
    "#Creación de tablas\n",
    "invoice_purchases_df = pd.read_csv(\"C:/Users/Laura Jerez/Documents/GitHub/FactibilidadInventariosLicorera/Archivos limpios/Ventas.csv\")\n",
    "invoice_purchases_df.to_sql(\"Ventas\", con=engine, if_exists='replace', index=False)\n",
    "print(\"Tabla 'Ventas' creada y cargada con éxito\")\n",
    "\n",
    "engine.dispose()"
   ]
  }
 ],
 "metadata": {
  "kernelspec": {
   "display_name": "Python 3",
   "language": "python",
   "name": "python3"
  },
  "language_info": {
   "codemirror_mode": {
    "name": "ipython",
    "version": 3
   },
   "file_extension": ".py",
   "mimetype": "text/x-python",
   "name": "python",
   "nbconvert_exporter": "python",
   "pygments_lexer": "ipython3",
   "version": "3.13.0"
  }
 },
 "nbformat": 4,
 "nbformat_minor": 2
}
